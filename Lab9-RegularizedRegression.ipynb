{
 "cells": [
  {
   "cell_type": "markdown",
   "metadata": {},
   "source": [
    "# Lab9: Lending Dataset – Regularized Regression\n"
   ]
  },
  {
   "cell_type": "markdown",
   "metadata": {},
   "source": [
    "#### Author: Dianna Hummel"
   ]
  },
  {
   "cell_type": "code",
   "execution_count": 1,
   "metadata": {},
   "outputs": [
    {
     "name": "stderr",
     "output_type": "stream",
     "text": [
      "C:\\Users\\Dianna\\Anaconda3\\lib\\site-packages\\statsmodels\\compat\\pandas.py:56: FutureWarning: The pandas.core.datetools module is deprecated and will be removed in a future version. Please use the pandas.tseries module instead.\n",
      "  from pandas.core import datetools\n"
     ]
    }
   ],
   "source": [
    "import numpy as np\n",
    "import pandas as pd\n",
    "from pandas import Series, DataFrame\n",
    "from sklearn.linear_model import LinearRegression\n",
    "from sklearn.linear_model import Ridge, RidgeCV\n",
    "from sklearn.linear_model import Lasso, LassoCV\n",
    "from sklearn import metrics\n",
    "from sklearn.model_selection import cross_val_score\n",
    "from sklearn.model_selection import train_test_split\n",
    "from sklearn.preprocessing import StandardScaler\n",
    "from sklearn.decomposition import PCA\n",
    "import statsmodels.api as sm\n",
    "import matplotlib.pyplot as plt\n",
    "import seaborn as sns; sns.set()\n",
    "%matplotlib inline"
   ]
  },
  {
   "cell_type": "markdown",
   "metadata": {},
   "source": [
    "##### Step A"
   ]
  },
  {
   "cell_type": "code",
   "execution_count": 2,
   "metadata": {},
   "outputs": [
    {
     "data": {
      "text/html": [
       "<div>\n",
       "<style>\n",
       "    .dataframe thead tr:only-child th {\n",
       "        text-align: right;\n",
       "    }\n",
       "\n",
       "    .dataframe thead th {\n",
       "        text-align: left;\n",
       "    }\n",
       "\n",
       "    .dataframe tbody tr th {\n",
       "        vertical-align: top;\n",
       "    }\n",
       "</style>\n",
       "<table border=\"1\" class=\"dataframe\">\n",
       "  <thead>\n",
       "    <tr style=\"text-align: right;\">\n",
       "      <th></th>\n",
       "      <th>IntRate</th>\n",
       "      <th>LoanAmt</th>\n",
       "      <th>LoanTerm</th>\n",
       "      <th>Debt2Inc</th>\n",
       "      <th>Home__MORT</th>\n",
       "      <th>Home__OWN</th>\n",
       "      <th>Home__RENT</th>\n",
       "      <th>MonthlyInc</th>\n",
       "      <th>RevCredBal</th>\n",
       "      <th>FICO</th>\n",
       "      <th>EmpLen</th>\n",
       "    </tr>\n",
       "    <tr>\n",
       "      <th>ID</th>\n",
       "      <th></th>\n",
       "      <th></th>\n",
       "      <th></th>\n",
       "      <th></th>\n",
       "      <th></th>\n",
       "      <th></th>\n",
       "      <th></th>\n",
       "      <th></th>\n",
       "      <th></th>\n",
       "      <th></th>\n",
       "      <th></th>\n",
       "    </tr>\n",
       "  </thead>\n",
       "  <tbody>\n",
       "    <tr>\n",
       "      <th>81174</th>\n",
       "      <td>8.90</td>\n",
       "      <td>20000</td>\n",
       "      <td>0</td>\n",
       "      <td>14.90</td>\n",
       "      <td>1</td>\n",
       "      <td>0</td>\n",
       "      <td>0</td>\n",
       "      <td>6541.67</td>\n",
       "      <td>14272.0</td>\n",
       "      <td>737</td>\n",
       "      <td>0</td>\n",
       "    </tr>\n",
       "    <tr>\n",
       "      <th>99592</th>\n",
       "      <td>12.12</td>\n",
       "      <td>19200</td>\n",
       "      <td>0</td>\n",
       "      <td>28.36</td>\n",
       "      <td>1</td>\n",
       "      <td>0</td>\n",
       "      <td>0</td>\n",
       "      <td>4583.33</td>\n",
       "      <td>11140.0</td>\n",
       "      <td>717</td>\n",
       "      <td>2</td>\n",
       "    </tr>\n",
       "    <tr>\n",
       "      <th>80059</th>\n",
       "      <td>21.98</td>\n",
       "      <td>35000</td>\n",
       "      <td>1</td>\n",
       "      <td>23.81</td>\n",
       "      <td>1</td>\n",
       "      <td>0</td>\n",
       "      <td>0</td>\n",
       "      <td>11500.00</td>\n",
       "      <td>21977.0</td>\n",
       "      <td>692</td>\n",
       "      <td>2</td>\n",
       "    </tr>\n",
       "    <tr>\n",
       "      <th>33182</th>\n",
       "      <td>11.71</td>\n",
       "      <td>12000</td>\n",
       "      <td>0</td>\n",
       "      <td>18.78</td>\n",
       "      <td>0</td>\n",
       "      <td>0</td>\n",
       "      <td>1</td>\n",
       "      <td>3195.00</td>\n",
       "      <td>14469.0</td>\n",
       "      <td>697</td>\n",
       "      <td>9</td>\n",
       "    </tr>\n",
       "    <tr>\n",
       "      <th>62403</th>\n",
       "      <td>15.31</td>\n",
       "      <td>6000</td>\n",
       "      <td>0</td>\n",
       "      <td>20.05</td>\n",
       "      <td>0</td>\n",
       "      <td>1</td>\n",
       "      <td>0</td>\n",
       "      <td>4891.67</td>\n",
       "      <td>10391.0</td>\n",
       "      <td>672</td>\n",
       "      <td>3</td>\n",
       "    </tr>\n",
       "    <tr>\n",
       "      <th>48808</th>\n",
       "      <td>7.90</td>\n",
       "      <td>10000</td>\n",
       "      <td>0</td>\n",
       "      <td>26.09</td>\n",
       "      <td>0</td>\n",
       "      <td>0</td>\n",
       "      <td>1</td>\n",
       "      <td>2916.67</td>\n",
       "      <td>15957.0</td>\n",
       "      <td>722</td>\n",
       "      <td>10</td>\n",
       "    </tr>\n",
       "    <tr>\n",
       "      <th>76404</th>\n",
       "      <td>14.33</td>\n",
       "      <td>14675</td>\n",
       "      <td>0</td>\n",
       "      <td>26.92</td>\n",
       "      <td>0</td>\n",
       "      <td>0</td>\n",
       "      <td>1</td>\n",
       "      <td>3150.00</td>\n",
       "      <td>7246.0</td>\n",
       "      <td>687</td>\n",
       "      <td>8</td>\n",
       "    </tr>\n",
       "    <tr>\n",
       "      <th>15867</th>\n",
       "      <td>6.91</td>\n",
       "      <td>7000</td>\n",
       "      <td>0</td>\n",
       "      <td>7.10</td>\n",
       "      <td>0</td>\n",
       "      <td>0</td>\n",
       "      <td>1</td>\n",
       "      <td>5000.00</td>\n",
       "      <td>7612.0</td>\n",
       "      <td>717</td>\n",
       "      <td>3</td>\n",
       "    </tr>\n",
       "    <tr>\n",
       "      <th>94971</th>\n",
       "      <td>19.72</td>\n",
       "      <td>2000</td>\n",
       "      <td>0</td>\n",
       "      <td>10.29</td>\n",
       "      <td>0</td>\n",
       "      <td>0</td>\n",
       "      <td>1</td>\n",
       "      <td>3575.00</td>\n",
       "      <td>12036.0</td>\n",
       "      <td>672</td>\n",
       "      <td>6</td>\n",
       "    </tr>\n",
       "    <tr>\n",
       "      <th>36911</th>\n",
       "      <td>14.27</td>\n",
       "      <td>10625</td>\n",
       "      <td>0</td>\n",
       "      <td>12.54</td>\n",
       "      <td>1</td>\n",
       "      <td>0</td>\n",
       "      <td>0</td>\n",
       "      <td>4250.00</td>\n",
       "      <td>10767.0</td>\n",
       "      <td>667</td>\n",
       "      <td>0</td>\n",
       "    </tr>\n",
       "  </tbody>\n",
       "</table>\n",
       "</div>"
      ],
      "text/plain": [
       "       IntRate  LoanAmt  LoanTerm  Debt2Inc  Home__MORT  Home__OWN  \\\n",
       "ID                                                                   \n",
       "81174     8.90    20000         0     14.90           1          0   \n",
       "99592    12.12    19200         0     28.36           1          0   \n",
       "80059    21.98    35000         1     23.81           1          0   \n",
       "33182    11.71    12000         0     18.78           0          0   \n",
       "62403    15.31     6000         0     20.05           0          1   \n",
       "48808     7.90    10000         0     26.09           0          0   \n",
       "76404    14.33    14675         0     26.92           0          0   \n",
       "15867     6.91     7000         0      7.10           0          0   \n",
       "94971    19.72     2000         0     10.29           0          0   \n",
       "36911    14.27    10625         0     12.54           1          0   \n",
       "\n",
       "       Home__RENT  MonthlyInc  RevCredBal  FICO  EmpLen  \n",
       "ID                                                       \n",
       "81174           0     6541.67     14272.0   737       0  \n",
       "99592           0     4583.33     11140.0   717       2  \n",
       "80059           0    11500.00     21977.0   692       2  \n",
       "33182           1     3195.00     14469.0   697       9  \n",
       "62403           0     4891.67     10391.0   672       3  \n",
       "48808           1     2916.67     15957.0   722      10  \n",
       "76404           1     3150.00      7246.0   687       8  \n",
       "15867           1     5000.00      7612.0   717       3  \n",
       "94971           1     3575.00     12036.0   672       6  \n",
       "36911           0     4250.00     10767.0   667       0  "
      ]
     },
     "execution_count": 2,
     "metadata": {},
     "output_type": "execute_result"
    }
   ],
   "source": [
    "loan_data = pd.read_csv(\"loansDataClean.csv\", index_col = 'ID')\n",
    "loan_data.head(10)"
   ]
  },
  {
   "cell_type": "code",
   "execution_count": 3,
   "metadata": {},
   "outputs": [
    {
     "data": {
      "text/plain": [
       "(1752, 11)"
      ]
     },
     "execution_count": 3,
     "metadata": {},
     "output_type": "execute_result"
    }
   ],
   "source": [
    "loan_data.shape"
   ]
  },
  {
   "cell_type": "code",
   "execution_count": 4,
   "metadata": {},
   "outputs": [
    {
     "data": {
      "text/plain": [
       "IntRate       float64\n",
       "LoanAmt         int64\n",
       "LoanTerm        int64\n",
       "Debt2Inc      float64\n",
       "Home__MORT      int64\n",
       "Home__OWN       int64\n",
       "Home__RENT      int64\n",
       "MonthlyInc    float64\n",
       "RevCredBal    float64\n",
       "FICO            int64\n",
       "EmpLen          int64\n",
       "dtype: object"
      ]
     },
     "execution_count": 4,
     "metadata": {},
     "output_type": "execute_result"
    }
   ],
   "source": [
    "loan_data.dtypes"
   ]
  },
  {
   "cell_type": "code",
   "execution_count": 5,
   "metadata": {},
   "outputs": [
    {
     "data": {
      "text/html": [
       "<div>\n",
       "<style>\n",
       "    .dataframe thead tr:only-child th {\n",
       "        text-align: right;\n",
       "    }\n",
       "\n",
       "    .dataframe thead th {\n",
       "        text-align: left;\n",
       "    }\n",
       "\n",
       "    .dataframe tbody tr th {\n",
       "        vertical-align: top;\n",
       "    }\n",
       "</style>\n",
       "<table border=\"1\" class=\"dataframe\">\n",
       "  <thead>\n",
       "    <tr style=\"text-align: right;\">\n",
       "      <th></th>\n",
       "      <th>count</th>\n",
       "      <th>mean</th>\n",
       "      <th>std</th>\n",
       "      <th>min</th>\n",
       "      <th>25%</th>\n",
       "      <th>50%</th>\n",
       "      <th>75%</th>\n",
       "      <th>max</th>\n",
       "    </tr>\n",
       "  </thead>\n",
       "  <tbody>\n",
       "    <tr>\n",
       "      <th>IntRate</th>\n",
       "      <td>1752.0</td>\n",
       "      <td>13.120811</td>\n",
       "      <td>4.200848</td>\n",
       "      <td>5.42</td>\n",
       "      <td>10.1600</td>\n",
       "      <td>13.110</td>\n",
       "      <td>15.800</td>\n",
       "      <td>24.89</td>\n",
       "    </tr>\n",
       "    <tr>\n",
       "      <th>LoanAmt</th>\n",
       "      <td>1752.0</td>\n",
       "      <td>11609.474886</td>\n",
       "      <td>7443.034671</td>\n",
       "      <td>1000.00</td>\n",
       "      <td>6000.0000</td>\n",
       "      <td>10000.000</td>\n",
       "      <td>15000.000</td>\n",
       "      <td>35000.00</td>\n",
       "    </tr>\n",
       "    <tr>\n",
       "      <th>LoanTerm</th>\n",
       "      <td>1752.0</td>\n",
       "      <td>0.183790</td>\n",
       "      <td>0.387423</td>\n",
       "      <td>0.00</td>\n",
       "      <td>0.0000</td>\n",
       "      <td>0.000</td>\n",
       "      <td>0.000</td>\n",
       "      <td>1.00</td>\n",
       "    </tr>\n",
       "    <tr>\n",
       "      <th>Debt2Inc</th>\n",
       "      <td>1752.0</td>\n",
       "      <td>15.706062</td>\n",
       "      <td>7.632795</td>\n",
       "      <td>0.00</td>\n",
       "      <td>9.8275</td>\n",
       "      <td>15.625</td>\n",
       "      <td>21.165</td>\n",
       "      <td>34.91</td>\n",
       "    </tr>\n",
       "    <tr>\n",
       "      <th>Home__MORT</th>\n",
       "      <td>1752.0</td>\n",
       "      <td>0.434361</td>\n",
       "      <td>0.495814</td>\n",
       "      <td>0.00</td>\n",
       "      <td>0.0000</td>\n",
       "      <td>0.000</td>\n",
       "      <td>1.000</td>\n",
       "      <td>1.00</td>\n",
       "    </tr>\n",
       "    <tr>\n",
       "      <th>Home__OWN</th>\n",
       "      <td>1752.0</td>\n",
       "      <td>0.083904</td>\n",
       "      <td>0.277323</td>\n",
       "      <td>0.00</td>\n",
       "      <td>0.0000</td>\n",
       "      <td>0.000</td>\n",
       "      <td>0.000</td>\n",
       "      <td>1.00</td>\n",
       "    </tr>\n",
       "    <tr>\n",
       "      <th>Home__RENT</th>\n",
       "      <td>1752.0</td>\n",
       "      <td>0.481735</td>\n",
       "      <td>0.499809</td>\n",
       "      <td>0.00</td>\n",
       "      <td>0.0000</td>\n",
       "      <td>0.000</td>\n",
       "      <td>1.000</td>\n",
       "      <td>1.00</td>\n",
       "    </tr>\n",
       "    <tr>\n",
       "      <th>MonthlyInc</th>\n",
       "      <td>1752.0</td>\n",
       "      <td>5520.837854</td>\n",
       "      <td>3186.290186</td>\n",
       "      <td>1000.00</td>\n",
       "      <td>3416.6700</td>\n",
       "      <td>4833.330</td>\n",
       "      <td>6666.670</td>\n",
       "      <td>39583.33</td>\n",
       "    </tr>\n",
       "    <tr>\n",
       "      <th>RevCredBal</th>\n",
       "      <td>1752.0</td>\n",
       "      <td>13932.856164</td>\n",
       "      <td>13708.658521</td>\n",
       "      <td>0.00</td>\n",
       "      <td>5539.2500</td>\n",
       "      <td>10738.500</td>\n",
       "      <td>17680.000</td>\n",
       "      <td>143151.00</td>\n",
       "    </tr>\n",
       "    <tr>\n",
       "      <th>FICO</th>\n",
       "      <td>1752.0</td>\n",
       "      <td>704.568493</td>\n",
       "      <td>33.186834</td>\n",
       "      <td>662.00</td>\n",
       "      <td>677.0000</td>\n",
       "      <td>697.000</td>\n",
       "      <td>722.000</td>\n",
       "      <td>832.00</td>\n",
       "    </tr>\n",
       "    <tr>\n",
       "      <th>EmpLen</th>\n",
       "      <td>1752.0</td>\n",
       "      <td>5.406393</td>\n",
       "      <td>3.526408</td>\n",
       "      <td>0.00</td>\n",
       "      <td>2.0000</td>\n",
       "      <td>5.000</td>\n",
       "      <td>10.000</td>\n",
       "      <td>10.00</td>\n",
       "    </tr>\n",
       "  </tbody>\n",
       "</table>\n",
       "</div>"
      ],
      "text/plain": [
       "             count          mean           std      min        25%        50%  \\\n",
       "IntRate     1752.0     13.120811      4.200848     5.42    10.1600     13.110   \n",
       "LoanAmt     1752.0  11609.474886   7443.034671  1000.00  6000.0000  10000.000   \n",
       "LoanTerm    1752.0      0.183790      0.387423     0.00     0.0000      0.000   \n",
       "Debt2Inc    1752.0     15.706062      7.632795     0.00     9.8275     15.625   \n",
       "Home__MORT  1752.0      0.434361      0.495814     0.00     0.0000      0.000   \n",
       "Home__OWN   1752.0      0.083904      0.277323     0.00     0.0000      0.000   \n",
       "Home__RENT  1752.0      0.481735      0.499809     0.00     0.0000      0.000   \n",
       "MonthlyInc  1752.0   5520.837854   3186.290186  1000.00  3416.6700   4833.330   \n",
       "RevCredBal  1752.0  13932.856164  13708.658521     0.00  5539.2500  10738.500   \n",
       "FICO        1752.0    704.568493     33.186834   662.00   677.0000    697.000   \n",
       "EmpLen      1752.0      5.406393      3.526408     0.00     2.0000      5.000   \n",
       "\n",
       "                  75%        max  \n",
       "IntRate        15.800      24.89  \n",
       "LoanAmt     15000.000   35000.00  \n",
       "LoanTerm        0.000       1.00  \n",
       "Debt2Inc       21.165      34.91  \n",
       "Home__MORT      1.000       1.00  \n",
       "Home__OWN       0.000       1.00  \n",
       "Home__RENT      1.000       1.00  \n",
       "MonthlyInc   6666.670   39583.33  \n",
       "RevCredBal  17680.000  143151.00  \n",
       "FICO          722.000     832.00  \n",
       "EmpLen         10.000      10.00  "
      ]
     },
     "execution_count": 5,
     "metadata": {},
     "output_type": "execute_result"
    }
   ],
   "source": [
    "loan_data.describe().T"
   ]
  },
  {
   "cell_type": "markdown",
   "metadata": {},
   "source": [
    "#### Step B"
   ]
  },
  {
   "cell_type": "code",
   "execution_count": 6,
   "metadata": {
    "collapsed": true
   },
   "outputs": [],
   "source": [
    "Y = loan_data [['IntRate']]\n",
    "X = loan_data.drop(['IntRate'], axis=1)"
   ]
  },
  {
   "cell_type": "code",
   "execution_count": 7,
   "metadata": {},
   "outputs": [
    {
     "data": {
      "text/plain": [
       "array([[ 1.1276208 , -0.4745259 , -0.1056352 ,  1.14115464, -0.30263639,\n",
       "        -0.9641138 ,  0.32047414,  0.02474645,  0.97751917, -1.53355396],\n",
       "       [ 1.02010707, -0.4745259 ,  1.65831149,  1.14115464, -0.30263639,\n",
       "        -0.9641138 , -0.29431579, -0.20378752,  0.37469848, -0.96624262],\n",
       "       [ 3.14350321,  2.10736655,  1.06202936,  1.14115464, -0.30263639,\n",
       "        -0.9641138 ,  1.87706358,  0.58696046, -0.37882739, -0.96624262],\n",
       "       [ 0.05248351, -0.4745259 ,  0.40284275, -0.87630543, -0.30263639,\n",
       "         1.03722195, -0.73016008,  0.03912104, -0.22812221,  1.0193471 ],\n",
       "       [-0.75386945, -0.4745259 ,  0.56927754, -0.87630543,  3.30429529,\n",
       "        -0.9641138 , -0.19751732, -0.25844012, -0.98164808, -0.68258694]])"
      ]
     },
     "execution_count": 7,
     "metadata": {},
     "output_type": "execute_result"
    }
   ],
   "source": [
    "sc = StandardScaler()\n",
    "sc.fit(X)\n",
    "X_std = sc.transform(X)\n",
    "X_std[:5]"
   ]
  },
  {
   "cell_type": "code",
   "execution_count": 8,
   "metadata": {},
   "outputs": [
    {
     "data": {
      "text/html": [
       "<table class=\"simpletable\">\n",
       "<caption>OLS Regression Results</caption>\n",
       "<tr>\n",
       "  <th>Dep. Variable:</th>         <td>IntRate</td>     <th>  R-squared:         </th> <td>   0.754</td>\n",
       "</tr>\n",
       "<tr>\n",
       "  <th>Model:</th>                   <td>OLS</td>       <th>  Adj. R-squared:    </th> <td>   0.753</td>\n",
       "</tr>\n",
       "<tr>\n",
       "  <th>Method:</th>             <td>Least Squares</td>  <th>  F-statistic:       </th> <td>   593.5</td>\n",
       "</tr>\n",
       "<tr>\n",
       "  <th>Date:</th>             <td>Wed, 01 Nov 2017</td> <th>  Prob (F-statistic):</th>  <td>  0.00</td> \n",
       "</tr>\n",
       "<tr>\n",
       "  <th>Time:</th>                 <td>15:51:32</td>     <th>  Log-Likelihood:    </th> <td> -3771.3</td>\n",
       "</tr>\n",
       "<tr>\n",
       "  <th>No. Observations:</th>      <td>  1752</td>      <th>  AIC:               </th> <td>   7563.</td>\n",
       "</tr>\n",
       "<tr>\n",
       "  <th>Df Residuals:</th>          <td>  1742</td>      <th>  BIC:               </th> <td>   7617.</td>\n",
       "</tr>\n",
       "<tr>\n",
       "  <th>Df Model:</th>              <td>     9</td>      <th>                     </th>     <td> </td>   \n",
       "</tr>\n",
       "<tr>\n",
       "  <th>Covariance Type:</th>      <td>nonrobust</td>    <th>                     </th>     <td> </td>   \n",
       "</tr>\n",
       "</table>\n",
       "<table class=\"simpletable\">\n",
       "<tr>\n",
       "    <td></td>       <th>coef</th>     <th>std err</th>      <th>t</th>      <th>P>|t|</th>  <th>[0.025</th>    <th>0.975]</th>  \n",
       "</tr>\n",
       "<tr>\n",
       "  <th>const</th> <td>   13.1208</td> <td>    0.050</td> <td>  262.957</td> <td> 0.000</td> <td>   13.023</td> <td>   13.219</td>\n",
       "</tr>\n",
       "<tr>\n",
       "  <th>x1</th>    <td>    1.0979</td> <td>    0.062</td> <td>   17.676</td> <td> 0.000</td> <td>    0.976</td> <td>    1.220</td>\n",
       "</tr>\n",
       "<tr>\n",
       "  <th>x2</th>    <td>    1.3223</td> <td>    0.054</td> <td>   24.460</td> <td> 0.000</td> <td>    1.216</td> <td>    1.428</td>\n",
       "</tr>\n",
       "<tr>\n",
       "  <th>x3</th>    <td>   -0.1068</td> <td>    0.055</td> <td>   -1.930</td> <td> 0.054</td> <td>   -0.215</td> <td>    0.002</td>\n",
       "</tr>\n",
       "<tr>\n",
       "  <th>x4</th>    <td>   -0.0873</td> <td>    0.031</td> <td>   -2.829</td> <td> 0.005</td> <td>   -0.148</td> <td>   -0.027</td>\n",
       "</tr>\n",
       "<tr>\n",
       "  <th>x5</th>    <td>    0.0467</td> <td>    0.043</td> <td>    1.075</td> <td> 0.282</td> <td>   -0.038</td> <td>    0.132</td>\n",
       "</tr>\n",
       "<tr>\n",
       "  <th>x6</th>    <td>    0.0607</td> <td>    0.030</td> <td>    2.035</td> <td> 0.042</td> <td>    0.002</td> <td>    0.119</td>\n",
       "</tr>\n",
       "<tr>\n",
       "  <th>x7</th>    <td>   -0.0994</td> <td>    0.063</td> <td>   -1.568</td> <td> 0.117</td> <td>   -0.224</td> <td>    0.025</td>\n",
       "</tr>\n",
       "<tr>\n",
       "  <th>x8</th>    <td>   -0.0919</td> <td>    0.060</td> <td>   -1.532</td> <td> 0.126</td> <td>   -0.209</td> <td>    0.026</td>\n",
       "</tr>\n",
       "<tr>\n",
       "  <th>x9</th>    <td>   -3.1247</td> <td>    0.052</td> <td>  -60.423</td> <td> 0.000</td> <td>   -3.226</td> <td>   -3.023</td>\n",
       "</tr>\n",
       "<tr>\n",
       "  <th>x10</th>   <td>    0.0402</td> <td>    0.052</td> <td>    0.772</td> <td> 0.440</td> <td>   -0.062</td> <td>    0.142</td>\n",
       "</tr>\n",
       "</table>\n",
       "<table class=\"simpletable\">\n",
       "<tr>\n",
       "  <th>Omnibus:</th>       <td>112.621</td> <th>  Durbin-Watson:     </th> <td>   1.934</td>\n",
       "</tr>\n",
       "<tr>\n",
       "  <th>Prob(Omnibus):</th> <td> 0.000</td>  <th>  Jarque-Bera (JB):  </th> <td> 187.144</td>\n",
       "</tr>\n",
       "<tr>\n",
       "  <th>Skew:</th>          <td> 0.492</td>  <th>  Prob(JB):          </th> <td>2.30e-41</td>\n",
       "</tr>\n",
       "<tr>\n",
       "  <th>Kurtosis:</th>      <td> 4.263</td>  <th>  Cond. No.          </th> <td>6.28e+15</td>\n",
       "</tr>\n",
       "</table>"
      ],
      "text/plain": [
       "<class 'statsmodels.iolib.summary.Summary'>\n",
       "\"\"\"\n",
       "                            OLS Regression Results                            \n",
       "==============================================================================\n",
       "Dep. Variable:                IntRate   R-squared:                       0.754\n",
       "Model:                            OLS   Adj. R-squared:                  0.753\n",
       "Method:                 Least Squares   F-statistic:                     593.5\n",
       "Date:                Wed, 01 Nov 2017   Prob (F-statistic):               0.00\n",
       "Time:                        15:51:32   Log-Likelihood:                -3771.3\n",
       "No. Observations:                1752   AIC:                             7563.\n",
       "Df Residuals:                    1742   BIC:                             7617.\n",
       "Df Model:                           9                                         \n",
       "Covariance Type:            nonrobust                                         \n",
       "==============================================================================\n",
       "                 coef    std err          t      P>|t|      [0.025      0.975]\n",
       "------------------------------------------------------------------------------\n",
       "const         13.1208      0.050    262.957      0.000      13.023      13.219\n",
       "x1             1.0979      0.062     17.676      0.000       0.976       1.220\n",
       "x2             1.3223      0.054     24.460      0.000       1.216       1.428\n",
       "x3            -0.1068      0.055     -1.930      0.054      -0.215       0.002\n",
       "x4            -0.0873      0.031     -2.829      0.005      -0.148      -0.027\n",
       "x5             0.0467      0.043      1.075      0.282      -0.038       0.132\n",
       "x6             0.0607      0.030      2.035      0.042       0.002       0.119\n",
       "x7            -0.0994      0.063     -1.568      0.117      -0.224       0.025\n",
       "x8            -0.0919      0.060     -1.532      0.126      -0.209       0.026\n",
       "x9            -3.1247      0.052    -60.423      0.000      -3.226      -3.023\n",
       "x10            0.0402      0.052      0.772      0.440      -0.062       0.142\n",
       "==============================================================================\n",
       "Omnibus:                      112.621   Durbin-Watson:                   1.934\n",
       "Prob(Omnibus):                  0.000   Jarque-Bera (JB):              187.144\n",
       "Skew:                           0.492   Prob(JB):                     2.30e-41\n",
       "Kurtosis:                       4.263   Cond. No.                     6.28e+15\n",
       "==============================================================================\n",
       "\n",
       "Warnings:\n",
       "[1] Standard Errors assume that the covariance matrix of the errors is correctly specified.\n",
       "[2] The smallest eigenvalue is 1.1e-28. This might indicate that there are\n",
       "strong multicollinearity problems or that the design matrix is singular.\n",
       "\"\"\""
      ]
     },
     "execution_count": 8,
     "metadata": {},
     "output_type": "execute_result"
    }
   ],
   "source": [
    "X_std = sm.add_constant (X_std)\n",
    "loan_model0 = sm.OLS (Y, X_std)\n",
    "loan_model0 = loan_model0.fit()\n",
    "loan_model0.summary()"
   ]
  },
  {
   "cell_type": "code",
   "execution_count": 9,
   "metadata": {
    "collapsed": true
   },
   "outputs": [],
   "source": [
    "X_std1 = np.delete(X_std, [10], axis=1)"
   ]
  },
  {
   "cell_type": "code",
   "execution_count": 10,
   "metadata": {},
   "outputs": [
    {
     "data": {
      "text/html": [
       "<table class=\"simpletable\">\n",
       "<caption>OLS Regression Results</caption>\n",
       "<tr>\n",
       "  <th>Dep. Variable:</th>         <td>IntRate</td>     <th>  R-squared:         </th> <td>   0.754</td>\n",
       "</tr>\n",
       "<tr>\n",
       "  <th>Model:</th>                   <td>OLS</td>       <th>  Adj. R-squared:    </th> <td>   0.753</td>\n",
       "</tr>\n",
       "<tr>\n",
       "  <th>Method:</th>             <td>Least Squares</td>  <th>  F-statistic:       </th> <td>   667.8</td>\n",
       "</tr>\n",
       "<tr>\n",
       "  <th>Date:</th>             <td>Wed, 01 Nov 2017</td> <th>  Prob (F-statistic):</th>  <td>  0.00</td> \n",
       "</tr>\n",
       "<tr>\n",
       "  <th>Time:</th>                 <td>15:51:32</td>     <th>  Log-Likelihood:    </th> <td> -3771.6</td>\n",
       "</tr>\n",
       "<tr>\n",
       "  <th>No. Observations:</th>      <td>  1752</td>      <th>  AIC:               </th> <td>   7561.</td>\n",
       "</tr>\n",
       "<tr>\n",
       "  <th>Df Residuals:</th>          <td>  1743</td>      <th>  BIC:               </th> <td>   7610.</td>\n",
       "</tr>\n",
       "<tr>\n",
       "  <th>Df Model:</th>              <td>     8</td>      <th>                     </th>     <td> </td>   \n",
       "</tr>\n",
       "<tr>\n",
       "  <th>Covariance Type:</th>      <td>nonrobust</td>    <th>                     </th>     <td> </td>   \n",
       "</tr>\n",
       "</table>\n",
       "<table class=\"simpletable\">\n",
       "<tr>\n",
       "    <td></td>       <th>coef</th>     <th>std err</th>      <th>t</th>      <th>P>|t|</th>  <th>[0.025</th>    <th>0.975]</th>  \n",
       "</tr>\n",
       "<tr>\n",
       "  <th>const</th> <td>   13.1208</td> <td>    0.050</td> <td>  262.988</td> <td> 0.000</td> <td>   13.023</td> <td>   13.219</td>\n",
       "</tr>\n",
       "<tr>\n",
       "  <th>x1</th>    <td>    1.1026</td> <td>    0.062</td> <td>   17.842</td> <td> 0.000</td> <td>    0.981</td> <td>    1.224</td>\n",
       "</tr>\n",
       "<tr>\n",
       "  <th>x2</th>    <td>    1.3224</td> <td>    0.054</td> <td>   24.465</td> <td> 0.000</td> <td>    1.216</td> <td>    1.428</td>\n",
       "</tr>\n",
       "<tr>\n",
       "  <th>x3</th>    <td>   -0.1075</td> <td>    0.055</td> <td>   -1.943</td> <td> 0.052</td> <td>   -0.216</td> <td>    0.001</td>\n",
       "</tr>\n",
       "<tr>\n",
       "  <th>x4</th>    <td>   -0.0823</td> <td>    0.030</td> <td>   -2.728</td> <td> 0.006</td> <td>   -0.141</td> <td>   -0.023</td>\n",
       "</tr>\n",
       "<tr>\n",
       "  <th>x5</th>    <td>    0.0460</td> <td>    0.043</td> <td>    1.059</td> <td> 0.290</td> <td>   -0.039</td> <td>    0.131</td>\n",
       "</tr>\n",
       "<tr>\n",
       "  <th>x6</th>    <td>    0.0561</td> <td>    0.029</td> <td>    1.921</td> <td> 0.055</td> <td>   -0.001</td> <td>    0.113</td>\n",
       "</tr>\n",
       "<tr>\n",
       "  <th>x7</th>    <td>   -0.1011</td> <td>    0.063</td> <td>   -1.596</td> <td> 0.111</td> <td>   -0.225</td> <td>    0.023</td>\n",
       "</tr>\n",
       "<tr>\n",
       "  <th>x8</th>    <td>   -0.0890</td> <td>    0.060</td> <td>   -1.487</td> <td> 0.137</td> <td>   -0.206</td> <td>    0.028</td>\n",
       "</tr>\n",
       "<tr>\n",
       "  <th>x9</th>    <td>   -3.1254</td> <td>    0.052</td> <td>  -60.451</td> <td> 0.000</td> <td>   -3.227</td> <td>   -3.024</td>\n",
       "</tr>\n",
       "</table>\n",
       "<table class=\"simpletable\">\n",
       "<tr>\n",
       "  <th>Omnibus:</th>       <td>111.850</td> <th>  Durbin-Watson:     </th> <td>   1.934</td>\n",
       "</tr>\n",
       "<tr>\n",
       "  <th>Prob(Omnibus):</th> <td> 0.000</td>  <th>  Jarque-Bera (JB):  </th> <td> 185.978</td>\n",
       "</tr>\n",
       "<tr>\n",
       "  <th>Skew:</th>          <td> 0.489</td>  <th>  Prob(JB):          </th> <td>4.12e-41</td>\n",
       "</tr>\n",
       "<tr>\n",
       "  <th>Kurtosis:</th>      <td> 4.262</td>  <th>  Cond. No.          </th> <td>5.58e+15</td>\n",
       "</tr>\n",
       "</table>"
      ],
      "text/plain": [
       "<class 'statsmodels.iolib.summary.Summary'>\n",
       "\"\"\"\n",
       "                            OLS Regression Results                            \n",
       "==============================================================================\n",
       "Dep. Variable:                IntRate   R-squared:                       0.754\n",
       "Model:                            OLS   Adj. R-squared:                  0.753\n",
       "Method:                 Least Squares   F-statistic:                     667.8\n",
       "Date:                Wed, 01 Nov 2017   Prob (F-statistic):               0.00\n",
       "Time:                        15:51:32   Log-Likelihood:                -3771.6\n",
       "No. Observations:                1752   AIC:                             7561.\n",
       "Df Residuals:                    1743   BIC:                             7610.\n",
       "Df Model:                           8                                         \n",
       "Covariance Type:            nonrobust                                         \n",
       "==============================================================================\n",
       "                 coef    std err          t      P>|t|      [0.025      0.975]\n",
       "------------------------------------------------------------------------------\n",
       "const         13.1208      0.050    262.988      0.000      13.023      13.219\n",
       "x1             1.1026      0.062     17.842      0.000       0.981       1.224\n",
       "x2             1.3224      0.054     24.465      0.000       1.216       1.428\n",
       "x3            -0.1075      0.055     -1.943      0.052      -0.216       0.001\n",
       "x4            -0.0823      0.030     -2.728      0.006      -0.141      -0.023\n",
       "x5             0.0460      0.043      1.059      0.290      -0.039       0.131\n",
       "x6             0.0561      0.029      1.921      0.055      -0.001       0.113\n",
       "x7            -0.1011      0.063     -1.596      0.111      -0.225       0.023\n",
       "x8            -0.0890      0.060     -1.487      0.137      -0.206       0.028\n",
       "x9            -3.1254      0.052    -60.451      0.000      -3.227      -3.024\n",
       "==============================================================================\n",
       "Omnibus:                      111.850   Durbin-Watson:                   1.934\n",
       "Prob(Omnibus):                  0.000   Jarque-Bera (JB):              185.978\n",
       "Skew:                           0.489   Prob(JB):                     4.12e-41\n",
       "Kurtosis:                       4.262   Cond. No.                     5.58e+15\n",
       "==============================================================================\n",
       "\n",
       "Warnings:\n",
       "[1] Standard Errors assume that the covariance matrix of the errors is correctly specified.\n",
       "[2] The smallest eigenvalue is 1.34e-28. This might indicate that there are\n",
       "strong multicollinearity problems or that the design matrix is singular.\n",
       "\"\"\""
      ]
     },
     "execution_count": 10,
     "metadata": {},
     "output_type": "execute_result"
    }
   ],
   "source": [
    "X_std1\n",
    "X_std0 = sm.add_constant (X_std1)\n",
    "loan_model0 = sm.OLS (Y, X_std0)\n",
    "loan_model0 = loan_model0.fit()\n",
    "loan_model0.summary()"
   ]
  },
  {
   "cell_type": "code",
   "execution_count": 11,
   "metadata": {
    "collapsed": true
   },
   "outputs": [],
   "source": [
    "X_std1 = np.delete(X_std, [5,10], axis=1)"
   ]
  },
  {
   "cell_type": "code",
   "execution_count": 12,
   "metadata": {},
   "outputs": [
    {
     "data": {
      "text/html": [
       "<table class=\"simpletable\">\n",
       "<caption>OLS Regression Results</caption>\n",
       "<tr>\n",
       "  <th>Dep. Variable:</th>         <td>IntRate</td>     <th>  R-squared:         </th> <td>   0.754</td>\n",
       "</tr>\n",
       "<tr>\n",
       "  <th>Model:</th>                   <td>OLS</td>       <th>  Adj. R-squared:    </th> <td>   0.753</td>\n",
       "</tr>\n",
       "<tr>\n",
       "  <th>Method:</th>             <td>Least Squares</td>  <th>  F-statistic:       </th> <td>   667.8</td>\n",
       "</tr>\n",
       "<tr>\n",
       "  <th>Date:</th>             <td>Wed, 01 Nov 2017</td> <th>  Prob (F-statistic):</th>  <td>  0.00</td> \n",
       "</tr>\n",
       "<tr>\n",
       "  <th>Time:</th>                 <td>15:51:32</td>     <th>  Log-Likelihood:    </th> <td> -3771.6</td>\n",
       "</tr>\n",
       "<tr>\n",
       "  <th>No. Observations:</th>      <td>  1752</td>      <th>  AIC:               </th> <td>   7561.</td>\n",
       "</tr>\n",
       "<tr>\n",
       "  <th>Df Residuals:</th>          <td>  1743</td>      <th>  BIC:               </th> <td>   7610.</td>\n",
       "</tr>\n",
       "<tr>\n",
       "  <th>Df Model:</th>              <td>     8</td>      <th>                     </th>     <td> </td>   \n",
       "</tr>\n",
       "<tr>\n",
       "  <th>Covariance Type:</th>      <td>nonrobust</td>    <th>                     </th>     <td> </td>   \n",
       "</tr>\n",
       "</table>\n",
       "<table class=\"simpletable\">\n",
       "<tr>\n",
       "    <td></td>       <th>coef</th>     <th>std err</th>      <th>t</th>      <th>P>|t|</th>  <th>[0.025</th>    <th>0.975]</th>  \n",
       "</tr>\n",
       "<tr>\n",
       "  <th>const</th> <td>   13.1208</td> <td>    0.050</td> <td>  262.988</td> <td> 0.000</td> <td>   13.023</td> <td>   13.219</td>\n",
       "</tr>\n",
       "<tr>\n",
       "  <th>x1</th>    <td>    1.1026</td> <td>    0.062</td> <td>   17.842</td> <td> 0.000</td> <td>    0.981</td> <td>    1.224</td>\n",
       "</tr>\n",
       "<tr>\n",
       "  <th>x2</th>    <td>    1.3224</td> <td>    0.054</td> <td>   24.465</td> <td> 0.000</td> <td>    1.216</td> <td>    1.428</td>\n",
       "</tr>\n",
       "<tr>\n",
       "  <th>x3</th>    <td>   -0.1075</td> <td>    0.055</td> <td>   -1.943</td> <td> 0.052</td> <td>   -0.216</td> <td>    0.001</td>\n",
       "</tr>\n",
       "<tr>\n",
       "  <th>x4</th>    <td>   -0.1645</td> <td>    0.095</td> <td>   -1.738</td> <td> 0.082</td> <td>   -0.350</td> <td>    0.021</td>\n",
       "</tr>\n",
       "<tr>\n",
       "  <th>x5</th>    <td>   -0.0267</td> <td>    0.093</td> <td>   -0.286</td> <td> 0.775</td> <td>   -0.210</td> <td>    0.157</td>\n",
       "</tr>\n",
       "<tr>\n",
       "  <th>x6</th>    <td>   -0.1011</td> <td>    0.063</td> <td>   -1.596</td> <td> 0.111</td> <td>   -0.225</td> <td>    0.023</td>\n",
       "</tr>\n",
       "<tr>\n",
       "  <th>x7</th>    <td>   -0.0890</td> <td>    0.060</td> <td>   -1.487</td> <td> 0.137</td> <td>   -0.206</td> <td>    0.028</td>\n",
       "</tr>\n",
       "<tr>\n",
       "  <th>x8</th>    <td>   -3.1254</td> <td>    0.052</td> <td>  -60.451</td> <td> 0.000</td> <td>   -3.227</td> <td>   -3.024</td>\n",
       "</tr>\n",
       "</table>\n",
       "<table class=\"simpletable\">\n",
       "<tr>\n",
       "  <th>Omnibus:</th>       <td>111.850</td> <th>  Durbin-Watson:     </th> <td>   1.934</td>\n",
       "</tr>\n",
       "<tr>\n",
       "  <th>Prob(Omnibus):</th> <td> 0.000</td>  <th>  Jarque-Bera (JB):  </th> <td> 185.978</td>\n",
       "</tr>\n",
       "<tr>\n",
       "  <th>Skew:</th>          <td> 0.489</td>  <th>  Prob(JB):          </th> <td>4.12e-41</td>\n",
       "</tr>\n",
       "<tr>\n",
       "  <th>Kurtosis:</th>      <td> 4.262</td>  <th>  Cond. No.          </th> <td>    3.93</td>\n",
       "</tr>\n",
       "</table>"
      ],
      "text/plain": [
       "<class 'statsmodels.iolib.summary.Summary'>\n",
       "\"\"\"\n",
       "                            OLS Regression Results                            \n",
       "==============================================================================\n",
       "Dep. Variable:                IntRate   R-squared:                       0.754\n",
       "Model:                            OLS   Adj. R-squared:                  0.753\n",
       "Method:                 Least Squares   F-statistic:                     667.8\n",
       "Date:                Wed, 01 Nov 2017   Prob (F-statistic):               0.00\n",
       "Time:                        15:51:32   Log-Likelihood:                -3771.6\n",
       "No. Observations:                1752   AIC:                             7561.\n",
       "Df Residuals:                    1743   BIC:                             7610.\n",
       "Df Model:                           8                                         \n",
       "Covariance Type:            nonrobust                                         \n",
       "==============================================================================\n",
       "                 coef    std err          t      P>|t|      [0.025      0.975]\n",
       "------------------------------------------------------------------------------\n",
       "const         13.1208      0.050    262.988      0.000      13.023      13.219\n",
       "x1             1.1026      0.062     17.842      0.000       0.981       1.224\n",
       "x2             1.3224      0.054     24.465      0.000       1.216       1.428\n",
       "x3            -0.1075      0.055     -1.943      0.052      -0.216       0.001\n",
       "x4            -0.1645      0.095     -1.738      0.082      -0.350       0.021\n",
       "x5            -0.0267      0.093     -0.286      0.775      -0.210       0.157\n",
       "x6            -0.1011      0.063     -1.596      0.111      -0.225       0.023\n",
       "x7            -0.0890      0.060     -1.487      0.137      -0.206       0.028\n",
       "x8            -3.1254      0.052    -60.451      0.000      -3.227      -3.024\n",
       "==============================================================================\n",
       "Omnibus:                      111.850   Durbin-Watson:                   1.934\n",
       "Prob(Omnibus):                  0.000   Jarque-Bera (JB):              185.978\n",
       "Skew:                           0.489   Prob(JB):                     4.12e-41\n",
       "Kurtosis:                       4.262   Cond. No.                         3.93\n",
       "==============================================================================\n",
       "\n",
       "Warnings:\n",
       "[1] Standard Errors assume that the covariance matrix of the errors is correctly specified.\n",
       "\"\"\""
      ]
     },
     "execution_count": 12,
     "metadata": {},
     "output_type": "execute_result"
    }
   ],
   "source": [
    "X_std0 = sm.add_constant (X_std1)\n",
    "loan_model0 = sm.OLS (Y, X_std0)\n",
    "loan_model0 = loan_model0.fit()\n",
    "loan_model0.summary()"
   ]
  },
  {
   "cell_type": "code",
   "execution_count": 13,
   "metadata": {},
   "outputs": [
    {
     "data": {
      "text/html": [
       "<table class=\"simpletable\">\n",
       "<caption>OLS Regression Results</caption>\n",
       "<tr>\n",
       "  <th>Dep. Variable:</th>         <td>IntRate</td>     <th>  R-squared:         </th> <td>   0.754</td>\n",
       "</tr>\n",
       "<tr>\n",
       "  <th>Model:</th>                   <td>OLS</td>       <th>  Adj. R-squared:    </th> <td>   0.753</td>\n",
       "</tr>\n",
       "<tr>\n",
       "  <th>Method:</th>             <td>Least Squares</td>  <th>  F-statistic:       </th> <td>   763.6</td>\n",
       "</tr>\n",
       "<tr>\n",
       "  <th>Date:</th>             <td>Wed, 01 Nov 2017</td> <th>  Prob (F-statistic):</th>  <td>  0.00</td> \n",
       "</tr>\n",
       "<tr>\n",
       "  <th>Time:</th>                 <td>15:51:32</td>     <th>  Log-Likelihood:    </th> <td> -3771.6</td>\n",
       "</tr>\n",
       "<tr>\n",
       "  <th>No. Observations:</th>      <td>  1752</td>      <th>  AIC:               </th> <td>   7559.</td>\n",
       "</tr>\n",
       "<tr>\n",
       "  <th>Df Residuals:</th>          <td>  1744</td>      <th>  BIC:               </th> <td>   7603.</td>\n",
       "</tr>\n",
       "<tr>\n",
       "  <th>Df Model:</th>              <td>     7</td>      <th>                     </th>     <td> </td>   \n",
       "</tr>\n",
       "<tr>\n",
       "  <th>Covariance Type:</th>      <td>nonrobust</td>    <th>                     </th>     <td> </td>   \n",
       "</tr>\n",
       "</table>\n",
       "<table class=\"simpletable\">\n",
       "<tr>\n",
       "    <td></td>       <th>coef</th>     <th>std err</th>      <th>t</th>      <th>P>|t|</th>  <th>[0.025</th>    <th>0.975]</th>  \n",
       "</tr>\n",
       "<tr>\n",
       "  <th>const</th> <td>   13.1208</td> <td>    0.050</td> <td>  263.057</td> <td> 0.000</td> <td>   13.023</td> <td>   13.219</td>\n",
       "</tr>\n",
       "<tr>\n",
       "  <th>x1</th>    <td>    1.1026</td> <td>    0.062</td> <td>   17.846</td> <td> 0.000</td> <td>    0.981</td> <td>    1.224</td>\n",
       "</tr>\n",
       "<tr>\n",
       "  <th>x2</th>    <td>    1.3223</td> <td>    0.054</td> <td>   24.470</td> <td> 0.000</td> <td>    1.216</td> <td>    1.428</td>\n",
       "</tr>\n",
       "<tr>\n",
       "  <th>x3</th>    <td>   -0.1071</td> <td>    0.055</td> <td>   -1.937</td> <td> 0.053</td> <td>   -0.216</td> <td>    0.001</td>\n",
       "</tr>\n",
       "<tr>\n",
       "  <th>x4</th>    <td>   -0.1419</td> <td>    0.052</td> <td>   -2.717</td> <td> 0.007</td> <td>   -0.244</td> <td>   -0.039</td>\n",
       "</tr>\n",
       "<tr>\n",
       "  <th>x5</th>    <td>   -0.1015</td> <td>    0.063</td> <td>   -1.604</td> <td> 0.109</td> <td>   -0.226</td> <td>    0.023</td>\n",
       "</tr>\n",
       "<tr>\n",
       "  <th>x6</th>    <td>   -0.0888</td> <td>    0.060</td> <td>   -1.484</td> <td> 0.138</td> <td>   -0.206</td> <td>    0.029</td>\n",
       "</tr>\n",
       "<tr>\n",
       "  <th>x7</th>    <td>   -3.1247</td> <td>    0.052</td> <td>  -60.521</td> <td> 0.000</td> <td>   -3.226</td> <td>   -3.023</td>\n",
       "</tr>\n",
       "</table>\n",
       "<table class=\"simpletable\">\n",
       "<tr>\n",
       "  <th>Omnibus:</th>       <td>111.730</td> <th>  Durbin-Watson:     </th> <td>   1.934</td>\n",
       "</tr>\n",
       "<tr>\n",
       "  <th>Prob(Omnibus):</th> <td> 0.000</td>  <th>  Jarque-Bera (JB):  </th> <td> 185.466</td>\n",
       "</tr>\n",
       "<tr>\n",
       "  <th>Skew:</th>          <td> 0.489</td>  <th>  Prob(JB):          </th> <td>5.33e-41</td>\n",
       "</tr>\n",
       "<tr>\n",
       "  <th>Kurtosis:</th>      <td> 4.259</td>  <th>  Cond. No.          </th> <td>    2.33</td>\n",
       "</tr>\n",
       "</table>"
      ],
      "text/plain": [
       "<class 'statsmodels.iolib.summary.Summary'>\n",
       "\"\"\"\n",
       "                            OLS Regression Results                            \n",
       "==============================================================================\n",
       "Dep. Variable:                IntRate   R-squared:                       0.754\n",
       "Model:                            OLS   Adj. R-squared:                  0.753\n",
       "Method:                 Least Squares   F-statistic:                     763.6\n",
       "Date:                Wed, 01 Nov 2017   Prob (F-statistic):               0.00\n",
       "Time:                        15:51:32   Log-Likelihood:                -3771.6\n",
       "No. Observations:                1752   AIC:                             7559.\n",
       "Df Residuals:                    1744   BIC:                             7603.\n",
       "Df Model:                           7                                         \n",
       "Covariance Type:            nonrobust                                         \n",
       "==============================================================================\n",
       "                 coef    std err          t      P>|t|      [0.025      0.975]\n",
       "------------------------------------------------------------------------------\n",
       "const         13.1208      0.050    263.057      0.000      13.023      13.219\n",
       "x1             1.1026      0.062     17.846      0.000       0.981       1.224\n",
       "x2             1.3223      0.054     24.470      0.000       1.216       1.428\n",
       "x3            -0.1071      0.055     -1.937      0.053      -0.216       0.001\n",
       "x4            -0.1419      0.052     -2.717      0.007      -0.244      -0.039\n",
       "x5            -0.1015      0.063     -1.604      0.109      -0.226       0.023\n",
       "x6            -0.0888      0.060     -1.484      0.138      -0.206       0.029\n",
       "x7            -3.1247      0.052    -60.521      0.000      -3.226      -3.023\n",
       "==============================================================================\n",
       "Omnibus:                      111.730   Durbin-Watson:                   1.934\n",
       "Prob(Omnibus):                  0.000   Jarque-Bera (JB):              185.466\n",
       "Skew:                           0.489   Prob(JB):                     5.33e-41\n",
       "Kurtosis:                       4.259   Cond. No.                         2.33\n",
       "==============================================================================\n",
       "\n",
       "Warnings:\n",
       "[1] Standard Errors assume that the covariance matrix of the errors is correctly specified.\n",
       "\"\"\""
      ]
     },
     "execution_count": 13,
     "metadata": {},
     "output_type": "execute_result"
    }
   ],
   "source": [
    "X_std1 = np.delete(X_std, [5,6,10], axis=1)\n",
    "X_std0 = sm.add_constant (X_std1)\n",
    "loan_model0 = sm.OLS (Y, X_std0)\n",
    "loan_model0 = loan_model0.fit()\n",
    "loan_model0.summary()"
   ]
  },
  {
   "cell_type": "code",
   "execution_count": 14,
   "metadata": {},
   "outputs": [
    {
     "data": {
      "text/html": [
       "<table class=\"simpletable\">\n",
       "<caption>OLS Regression Results</caption>\n",
       "<tr>\n",
       "  <th>Dep. Variable:</th>         <td>IntRate</td>     <th>  R-squared:         </th> <td>   0.754</td>\n",
       "</tr>\n",
       "<tr>\n",
       "  <th>Model:</th>                   <td>OLS</td>       <th>  Adj. R-squared:    </th> <td>   0.753</td>\n",
       "</tr>\n",
       "<tr>\n",
       "  <th>Method:</th>             <td>Least Squares</td>  <th>  F-statistic:       </th> <td>   889.9</td>\n",
       "</tr>\n",
       "<tr>\n",
       "  <th>Date:</th>             <td>Wed, 01 Nov 2017</td> <th>  Prob (F-statistic):</th>  <td>  0.00</td> \n",
       "</tr>\n",
       "<tr>\n",
       "  <th>Time:</th>                 <td>15:51:32</td>     <th>  Log-Likelihood:    </th> <td> -3772.7</td>\n",
       "</tr>\n",
       "<tr>\n",
       "  <th>No. Observations:</th>      <td>  1752</td>      <th>  AIC:               </th> <td>   7559.</td>\n",
       "</tr>\n",
       "<tr>\n",
       "  <th>Df Residuals:</th>          <td>  1745</td>      <th>  BIC:               </th> <td>   7598.</td>\n",
       "</tr>\n",
       "<tr>\n",
       "  <th>Df Model:</th>              <td>     6</td>      <th>                     </th>     <td> </td>   \n",
       "</tr>\n",
       "<tr>\n",
       "  <th>Covariance Type:</th>      <td>nonrobust</td>    <th>                     </th>     <td> </td>   \n",
       "</tr>\n",
       "</table>\n",
       "<table class=\"simpletable\">\n",
       "<tr>\n",
       "    <td></td>       <th>coef</th>     <th>std err</th>      <th>t</th>      <th>P>|t|</th>  <th>[0.025</th>    <th>0.975]</th>  \n",
       "</tr>\n",
       "<tr>\n",
       "  <th>const</th> <td>   13.1208</td> <td>    0.050</td> <td>  262.966</td> <td> 0.000</td> <td>   13.023</td> <td>   13.219</td>\n",
       "</tr>\n",
       "<tr>\n",
       "  <th>x1</th>    <td>    1.0884</td> <td>    0.061</td> <td>   17.824</td> <td> 0.000</td> <td>    0.969</td> <td>    1.208</td>\n",
       "</tr>\n",
       "<tr>\n",
       "  <th>x2</th>    <td>    1.3228</td> <td>    0.054</td> <td>   24.472</td> <td> 0.000</td> <td>    1.217</td> <td>    1.429</td>\n",
       "</tr>\n",
       "<tr>\n",
       "  <th>x3</th>    <td>   -0.1315</td> <td>    0.053</td> <td>   -2.490</td> <td> 0.013</td> <td>   -0.235</td> <td>   -0.028</td>\n",
       "</tr>\n",
       "<tr>\n",
       "  <th>x4</th>    <td>   -0.1498</td> <td>    0.052</td> <td>   -2.883</td> <td> 0.004</td> <td>   -0.252</td> <td>   -0.048</td>\n",
       "</tr>\n",
       "<tr>\n",
       "  <th>x5</th>    <td>   -0.1362</td> <td>    0.059</td> <td>   -2.314</td> <td> 0.021</td> <td>   -0.252</td> <td>   -0.021</td>\n",
       "</tr>\n",
       "<tr>\n",
       "  <th>x6</th>    <td>   -3.1242</td> <td>    0.052</td> <td>  -60.492</td> <td> 0.000</td> <td>   -3.226</td> <td>   -3.023</td>\n",
       "</tr>\n",
       "</table>\n",
       "<table class=\"simpletable\">\n",
       "<tr>\n",
       "  <th>Omnibus:</th>       <td>109.817</td> <th>  Durbin-Watson:     </th> <td>   1.934</td>\n",
       "</tr>\n",
       "<tr>\n",
       "  <th>Prob(Omnibus):</th> <td> 0.000</td>  <th>  Jarque-Bera (JB):  </th> <td> 181.065</td>\n",
       "</tr>\n",
       "<tr>\n",
       "  <th>Skew:</th>          <td> 0.484</td>  <th>  Prob(JB):          </th> <td>4.81e-40</td>\n",
       "</tr>\n",
       "<tr>\n",
       "  <th>Kurtosis:</th>      <td> 4.242</td>  <th>  Cond. No.          </th> <td>    2.06</td>\n",
       "</tr>\n",
       "</table>"
      ],
      "text/plain": [
       "<class 'statsmodels.iolib.summary.Summary'>\n",
       "\"\"\"\n",
       "                            OLS Regression Results                            \n",
       "==============================================================================\n",
       "Dep. Variable:                IntRate   R-squared:                       0.754\n",
       "Model:                            OLS   Adj. R-squared:                  0.753\n",
       "Method:                 Least Squares   F-statistic:                     889.9\n",
       "Date:                Wed, 01 Nov 2017   Prob (F-statistic):               0.00\n",
       "Time:                        15:51:32   Log-Likelihood:                -3772.7\n",
       "No. Observations:                1752   AIC:                             7559.\n",
       "Df Residuals:                    1745   BIC:                             7598.\n",
       "Df Model:                           6                                         \n",
       "Covariance Type:            nonrobust                                         \n",
       "==============================================================================\n",
       "                 coef    std err          t      P>|t|      [0.025      0.975]\n",
       "------------------------------------------------------------------------------\n",
       "const         13.1208      0.050    262.966      0.000      13.023      13.219\n",
       "x1             1.0884      0.061     17.824      0.000       0.969       1.208\n",
       "x2             1.3228      0.054     24.472      0.000       1.217       1.429\n",
       "x3            -0.1315      0.053     -2.490      0.013      -0.235      -0.028\n",
       "x4            -0.1498      0.052     -2.883      0.004      -0.252      -0.048\n",
       "x5            -0.1362      0.059     -2.314      0.021      -0.252      -0.021\n",
       "x6            -3.1242      0.052    -60.492      0.000      -3.226      -3.023\n",
       "==============================================================================\n",
       "Omnibus:                      109.817   Durbin-Watson:                   1.934\n",
       "Prob(Omnibus):                  0.000   Jarque-Bera (JB):              181.065\n",
       "Skew:                           0.484   Prob(JB):                     4.81e-40\n",
       "Kurtosis:                       4.242   Cond. No.                         2.06\n",
       "==============================================================================\n",
       "\n",
       "Warnings:\n",
       "[1] Standard Errors assume that the covariance matrix of the errors is correctly specified.\n",
       "\"\"\""
      ]
     },
     "execution_count": 14,
     "metadata": {},
     "output_type": "execute_result"
    }
   ],
   "source": [
    "X_std1 = np.delete(X_std, [5,6,8,10], axis=1)\n",
    "X_std0 = sm.add_constant (X_std1)\n",
    "loan_model0 = sm.OLS (Y, X_std0)\n",
    "loan_model0 = loan_model0.fit()\n",
    "loan_model0.summary()"
   ]
  },
  {
   "cell_type": "code",
   "execution_count": 15,
   "metadata": {},
   "outputs": [
    {
     "name": "stdout",
     "output_type": "stream",
     "text": [
      "Mean R-Squared Score: 0.749959588063\n"
     ]
    }
   ],
   "source": [
    "scores_list = []\n",
    "for rep in range(128):\n",
    "    lr = LinearRegression()\n",
    "    scores = cross_val_score(lr, X_std0, Y, cv=8)\n",
    "    scores_list.append(scores.mean())\n",
    "print ('Mean R-Squared Score:', sum (scores_list)/len (scores_list))"
   ]
  },
  {
   "cell_type": "code",
   "execution_count": 16,
   "metadata": {},
   "outputs": [
    {
     "data": {
      "text/plain": [
       "array([[ 15.64255519],\n",
       "       [  6.59548795],\n",
       "       [ 13.82204776],\n",
       "       [  7.82483241],\n",
       "       [ 13.8250073 ]])"
      ]
     },
     "execution_count": 16,
     "metadata": {},
     "output_type": "execute_result"
    }
   ],
   "source": [
    "lr = LinearRegression()\n",
    "X_train, X_test, Y_train, Y_test = train_test_split(X_std0,Y,random_state=33,test_size=0.2)\n",
    "model = lr.fit (X_train, Y_train)\n",
    "Y_pred = lr.predict (X_test)\n",
    "preds = Y_pred[:5]\n",
    "preds"
   ]
  },
  {
   "cell_type": "code",
   "execution_count": 17,
   "metadata": {},
   "outputs": [
    {
     "data": {
      "text/plain": [
       "array([[ 14.33],\n",
       "       [  5.79],\n",
       "       [ 13.67],\n",
       "       [  8.9 ],\n",
       "       [ 13.49]])"
      ]
     },
     "execution_count": 17,
     "metadata": {},
     "output_type": "execute_result"
    }
   ],
   "source": [
    "Y_test[:5].values"
   ]
  },
  {
   "cell_type": "code",
   "execution_count": 18,
   "metadata": {},
   "outputs": [
    {
     "data": {
      "text/plain": [
       "array([[ 0.        ,  1.08346743,  1.29230826, -0.0921673 , -0.15510927,\n",
       "        -0.15126294, -3.12942754]])"
      ]
     },
     "execution_count": 18,
     "metadata": {},
     "output_type": "execute_result"
    }
   ],
   "source": [
    "model.coef_"
   ]
  },
  {
   "cell_type": "code",
   "execution_count": 19,
   "metadata": {},
   "outputs": [
    {
     "data": {
      "text/plain": [
       "array([ 13.13233964])"
      ]
     },
     "execution_count": 19,
     "metadata": {},
     "output_type": "execute_result"
    }
   ],
   "source": [
    "model.intercept_"
   ]
  },
  {
   "cell_type": "code",
   "execution_count": 20,
   "metadata": {},
   "outputs": [
    {
     "data": {
      "text/plain": [
       "0.78339610037504681"
      ]
     },
     "execution_count": 20,
     "metadata": {},
     "output_type": "execute_result"
    }
   ],
   "source": [
    "model.score (X_test, Y_test)"
   ]
  },
  {
   "cell_type": "code",
   "execution_count": 21,
   "metadata": {},
   "outputs": [
    {
     "data": {
      "text/plain": [
       "4.2308403805289378"
      ]
     },
     "execution_count": 21,
     "metadata": {},
     "output_type": "execute_result"
    }
   ],
   "source": [
    "metrics.mean_squared_error (Y_test, Y_pred)"
   ]
  },
  {
   "cell_type": "code",
   "execution_count": 22,
   "metadata": {},
   "outputs": [
    {
     "name": "stdout",
     "output_type": "stream",
     "text": [
      "[[ 11.06552759]\n",
      " [ 13.77971589]\n",
      " [ 12.59468905]\n",
      " [  6.80612659]\n",
      " [  9.26459797]]\n",
      "[[  8.49]\n",
      " [ 16.29]\n",
      " [ 14.09]\n",
      " [  6.62]\n",
      " [  7.88]]\n",
      "[[ 0.          1.06963748  1.2823738  -0.13660673 -0.10849553 -0.13872206\n",
      "  -3.16959378]]\n",
      "[ 13.11982758]\n",
      "4.68010707286\n",
      "R-Squared Score: 0.748995385127\n"
     ]
    }
   ],
   "source": [
    "lr = LinearRegression()\n",
    "X_train, X_test, Y_train, Y_test = train_test_split(X_std0,\n",
    "Y, random_state=3,test_size=0.2)\n",
    "model = lr.fit(X_train, Y_train)\n",
    "predictions = lr.predict(X_test)\n",
    "print(predictions[:5])\n",
    "print(Y_test[:5].values)\n",
    "print(model.coef_)\n",
    "print(model.intercept_)\n",
    "print(metrics.mean_squared_error (Y_test, predictions))\n",
    "print('R-Squared Score:', model.score(X_test, Y_test))"
   ]
  },
  {
   "cell_type": "code",
   "execution_count": 23,
   "metadata": {},
   "outputs": [
    {
     "name": "stdout",
     "output_type": "stream",
     "text": [
      "[[ 13.64000738]\n",
      " [ 14.45046533]\n",
      " [ 12.04869505]\n",
      " [ 13.85777977]\n",
      " [ 15.35512902]]\n",
      "[[ 14.09]\n",
      " [ 17.77]\n",
      " [ 11.49]\n",
      " [ 14.09]\n",
      " [ 17.77]]\n",
      "[[ 0.          1.04677445  1.3520537  -0.17063715 -0.13697887 -0.1260454\n",
      "  -3.17444375]]\n",
      "[ 13.13996531]\n",
      "4.22698563799\n",
      "R-Squared Score: 0.746591861628\n"
     ]
    }
   ],
   "source": [
    "lr = LinearRegression()\n",
    "X_train, X_test, Y_train, Y_test = train_test_split(X_std0,\n",
    "Y, random_state=13,test_size=0.2)\n",
    "model = lr.fit(X_train, Y_train)\n",
    "predictions = lr.predict(X_test)\n",
    "print(predictions[:5])\n",
    "print(Y_test[:5].values)\n",
    "print(model.coef_)\n",
    "print(model.intercept_)\n",
    "print(metrics.mean_squared_error (Y_test, predictions))\n",
    "print('R-Squared Score:', model.score(X_test, Y_test))"
   ]
  },
  {
   "cell_type": "code",
   "execution_count": 24,
   "metadata": {},
   "outputs": [
    {
     "name": "stdout",
     "output_type": "stream",
     "text": [
      "[[ 13.73591382]\n",
      " [ 15.07196615]\n",
      " [ 15.18774707]\n",
      " [ 10.45677232]\n",
      " [ 15.09663893]]\n",
      "[[ 16.29]\n",
      " [ 13.67]\n",
      " [ 17.77]\n",
      " [  7.9 ]\n",
      " [ 14.61]]\n",
      "[[ 0.          1.12237293  1.3481246  -0.16711445 -0.15438311 -0.21764075\n",
      "  -3.19576666]]\n",
      "[ 13.14614919]\n",
      "4.58784571637\n",
      "R-Squared Score: 0.713570896221\n"
     ]
    }
   ],
   "source": [
    "lr = LinearRegression()\n",
    "X_train, X_test, Y_train, Y_test = train_test_split(X_std0,\n",
    "Y, random_state=23,test_size=0.2)\n",
    "model = lr.fit(X_train, Y_train)\n",
    "predictions = lr.predict(X_test)\n",
    "print(predictions[:5])\n",
    "print(Y_test[:5].values)\n",
    "print(model.coef_)\n",
    "print(model.intercept_)\n",
    "print(metrics.mean_squared_error (Y_test, predictions))\n",
    "print('R-Squared Score:', model.score(X_test, Y_test))"
   ]
  },
  {
   "cell_type": "markdown",
   "metadata": {
    "collapsed": true
   },
   "source": [
    "##### Step C"
   ]
  },
  {
   "cell_type": "code",
   "execution_count": 25,
   "metadata": {
    "collapsed": true
   },
   "outputs": [],
   "source": [
    "Y = loan_data [['IntRate']]\n",
    "X = loan_data.drop(['IntRate','EmpLen','Home__OWN','Home__RENT','RevCredBal'], axis=1)\n",
    "X_train, X_test, Y_train, Y_test = train_test_split(X, Y, random_state=33,test_size=0.2)\n",
    "\n",
    "ridgemod = Ridge (alpha=0.0, normalize=True)\n",
    "ridgemod.fit (X_train, Y_train)\n",
    "Y_pred = ridgemod.predict (X_test)"
   ]
  },
  {
   "cell_type": "code",
   "execution_count": 26,
   "metadata": {},
   "outputs": [
    {
     "data": {
      "text/plain": [
       "array([[ 15.64255519],\n",
       "       [  6.59548795],\n",
       "       [ 13.82204776],\n",
       "       [  7.82483241],\n",
       "       [ 13.8250073 ]])"
      ]
     },
     "execution_count": 26,
     "metadata": {},
     "output_type": "execute_result"
    }
   ],
   "source": [
    "preds = Y_pred[:5]\n",
    "preds"
   ]
  },
  {
   "cell_type": "code",
   "execution_count": 27,
   "metadata": {},
   "outputs": [
    {
     "data": {
      "text/plain": [
       "array([[ 14.33],\n",
       "       [  5.79],\n",
       "       [ 13.67],\n",
       "       [  8.9 ],\n",
       "       [ 13.49]])"
      ]
     },
     "execution_count": 27,
     "metadata": {},
     "output_type": "execute_result"
    }
   ],
   "source": [
    "acts = Y_test[:5].values\n",
    "acts"
   ]
  },
  {
   "cell_type": "code",
   "execution_count": 28,
   "metadata": {},
   "outputs": [
    {
     "data": {
      "text/plain": [
       "array([[  1.45609529e-04,   3.33660094e+00,  -1.20786187e-02,\n",
       "         -3.12926748e-01,  -4.74866136e-05,  -9.43241836e-02]])"
      ]
     },
     "execution_count": 28,
     "metadata": {},
     "output_type": "execute_result"
    }
   ],
   "source": [
    "ridgemod.coef_"
   ]
  },
  {
   "cell_type": "code",
   "execution_count": 29,
   "metadata": {},
   "outputs": [
    {
     "data": {
      "text/plain": [
       "array([ 77.87430015])"
      ]
     },
     "execution_count": 29,
     "metadata": {},
     "output_type": "execute_result"
    }
   ],
   "source": [
    "ridgemod.intercept_"
   ]
  },
  {
   "cell_type": "code",
   "execution_count": 30,
   "metadata": {},
   "outputs": [
    {
     "name": "stdout",
     "output_type": "stream",
     "text": [
      "R-Squared Score: 0.783396100375\n"
     ]
    }
   ],
   "source": [
    "print ('R-Squared Score:', ridgemod.score(X_test, Y_test))"
   ]
  },
  {
   "cell_type": "code",
   "execution_count": 31,
   "metadata": {},
   "outputs": [
    {
     "name": "stdout",
     "output_type": "stream",
     "text": [
      "Ridge alpha=0 MSE 4.23084038053\n"
     ]
    }
   ],
   "source": [
    "print (\"Ridge alpha=0 MSE\", metrics.mean_squared_error (Y_test, Y_pred))"
   ]
  },
  {
   "cell_type": "markdown",
   "metadata": {},
   "source": [
    "##### Step D"
   ]
  },
  {
   "cell_type": "code",
   "execution_count": 32,
   "metadata": {},
   "outputs": [
    {
     "name": "stdout",
     "output_type": "stream",
     "text": [
      "RidgeCV alpha array [0.01, 0.1, 0.25, 0.5, 0.75, 1, 2.5, 5, 7.5, 10, 25, 50, 75, 100]\n"
     ]
    }
   ],
   "source": [
    "alpha_range = [0.01, 0.1, 0.25, 0.5, 0.75, 1, 2.5, 5, 7.5, 10, 25, 50, 75, 100]\n",
    "print (\"RidgeCV alpha array\", alpha_range) "
   ]
  },
  {
   "cell_type": "code",
   "execution_count": 33,
   "metadata": {},
   "outputs": [
    {
     "data": {
      "text/plain": [
       "array([[ 15.64766429],\n",
       "       [  6.59570624],\n",
       "       [ 13.82361021],\n",
       "       [  7.82581218],\n",
       "       [ 13.82494325]])"
      ]
     },
     "execution_count": 33,
     "metadata": {},
     "output_type": "execute_result"
    }
   ],
   "source": [
    "ridcvmod = RidgeCV (alphas=alpha_range, scoring='neg_mean_squared_error')\n",
    "ridcvmod.fit (X_train, Y_train)\n",
    "Y_pred = ridcvmod.predict (X_test)\n",
    "Y_pred[:5]"
   ]
  },
  {
   "cell_type": "code",
   "execution_count": 34,
   "metadata": {},
   "outputs": [
    {
     "name": "stdout",
     "output_type": "stream",
     "text": [
      "RidgeCV Regression Best Alpha 0.75\n"
     ]
    }
   ],
   "source": [
    "print(\"RidgeCV Regression Best Alpha\", ridcvmod.alpha_)"
   ]
  },
  {
   "cell_type": "code",
   "execution_count": 35,
   "metadata": {},
   "outputs": [
    {
     "name": "stdout",
     "output_type": "stream",
     "text": [
      "RidgeCV Regression Coefficients [[  1.45913684e-04   3.32225703e+00  -1.21249224e-02  -3.11975886e-01\n",
      "   -4.77493741e-05  -9.43326036e-02]]\n"
     ]
    }
   ],
   "source": [
    "print(\"RidgeCV Regression Coefficients\", ridcvmod.coef_)"
   ]
  },
  {
   "cell_type": "code",
   "execution_count": 36,
   "metadata": {},
   "outputs": [
    {
     "name": "stdout",
     "output_type": "stream",
     "text": [
      "RidgeCV Regression Test R-squared 0.7833206523\n"
     ]
    }
   ],
   "source": [
    "print (\"RidgeCV Regression Test R-squared\", ridcvmod.score (X_test, Y_test))"
   ]
  },
  {
   "cell_type": "code",
   "execution_count": 37,
   "metadata": {},
   "outputs": [
    {
     "name": "stdout",
     "output_type": "stream",
     "text": [
      "RidgeCV Regression MSE 4.23231407865\n"
     ]
    }
   ],
   "source": [
    "print (\"RidgeCV Regression MSE\", metrics.mean_squared_error (Y_pred, Y_test))"
   ]
  },
  {
   "cell_type": "markdown",
   "metadata": {},
   "source": [
    "##### Step E"
   ]
  },
  {
   "cell_type": "code",
   "execution_count": 38,
   "metadata": {
    "collapsed": true
   },
   "outputs": [],
   "source": [
    "Y = loan_data [['IntRate']]\n",
    "X = loan_data.drop(['IntRate','EmpLen','Home__OWN',\n",
    " 'Home__RENT','RevCredBal'], axis=1)\n",
    "Y = Y.values\n",
    "Y = Y.ravel()\n",
    "X_train, X_test, Y_train, Y_test = train_test_split(X, Y,\n",
    "random_state=33,test_size=0.2)"
   ]
  },
  {
   "cell_type": "code",
   "execution_count": 39,
   "metadata": {},
   "outputs": [
    {
     "data": {
      "text/plain": [
       "array([ 15.54853096,   6.82117272,  13.82631855,   7.73871915,  13.92975875])"
      ]
     },
     "execution_count": 39,
     "metadata": {},
     "output_type": "execute_result"
    }
   ],
   "source": [
    "lascvmod = LassoCV (n_alphas=100, normalize=True,\n",
    " random_state=33)\n",
    "lascvmod.fit(X_train, Y_train)\n",
    "Y_pred = lascvmod.predict(X_test)\n",
    "Y_pred[:5]\n"
   ]
  },
  {
   "cell_type": "code",
   "execution_count": 40,
   "metadata": {},
   "outputs": [
    {
     "name": "stdout",
     "output_type": "stream",
     "text": [
      "LassoCV Regression Best Alpha 0.00123305262621\n"
     ]
    }
   ],
   "source": [
    "print(\"LassoCV Regression Best Alpha\", lascvmod.alpha_)"
   ]
  },
  {
   "cell_type": "code",
   "execution_count": 41,
   "metadata": {},
   "outputs": [
    {
     "name": "stdout",
     "output_type": "stream",
     "text": [
      "LassoCV Regression Coefficients [  1.33554702e-04   3.28515373e+00  -1.76193619e-03  -2.53930698e-01\n",
      "  -2.11660218e-05  -9.26951262e-02]\n"
     ]
    }
   ],
   "source": [
    "print(\"LassoCV Regression Coefficients\", lascvmod.coef_)"
   ]
  },
  {
   "cell_type": "code",
   "execution_count": 42,
   "metadata": {},
   "outputs": [
    {
     "name": "stdout",
     "output_type": "stream",
     "text": [
      "LassoCV Regression Test R-squared 0.781579380462\n"
     ]
    }
   ],
   "source": [
    "print (\"LassoCV Regression Test R-squared\",\n",
    " lascvmod.score (X_test, Y_test))\n"
   ]
  },
  {
   "cell_type": "code",
   "execution_count": 43,
   "metadata": {},
   "outputs": [
    {
     "name": "stdout",
     "output_type": "stream",
     "text": [
      "LassoCV Regression MSE 4.26632566948\n"
     ]
    }
   ],
   "source": [
    "print (\"LassoCV Regression MSE\",\n",
    " metrics.mean_squared_error (Y_pred, Y_test)) "
   ]
  },
  {
   "cell_type": "markdown",
   "metadata": {},
   "source": [
    "##### Step F"
   ]
  },
  {
   "cell_type": "code",
   "execution_count": 44,
   "metadata": {
    "collapsed": true
   },
   "outputs": [],
   "source": [
    "Y = loan_data [['IntRate']]\n",
    "X = loan_data.drop(['IntRate'], axis=1)\n",
    "Y = Y.values\n",
    "Y = Y.ravel()\n",
    "X_train, X_test, Y_train, Y_test = train_test_split(X, Y,\n",
    "random_state=33,test_size=0.2)"
   ]
  },
  {
   "cell_type": "code",
   "execution_count": 45,
   "metadata": {},
   "outputs": [
    {
     "data": {
      "text/plain": [
       "array([ 15.51382685,   6.89377613,  13.77691187,   7.7324606 ,  13.97114691])"
      ]
     },
     "execution_count": 45,
     "metadata": {},
     "output_type": "execute_result"
    }
   ],
   "source": [
    "lascvmod = LassoCV (n_alphas=100, normalize=True,\n",
    " random_state=33)\n",
    "lascvmod.fit(X_train, Y_train)\n",
    "Y_pred = lascvmod.predict(X_test)\n",
    "Y_pred[:5]\n"
   ]
  },
  {
   "cell_type": "code",
   "execution_count": 46,
   "metadata": {},
   "outputs": [
    {
     "name": "stdout",
     "output_type": "stream",
     "text": [
      "LassoCV Regression Best Alpha 0.00174782023918\n"
     ]
    }
   ],
   "source": [
    "print(\"LassoCV Regression Best Alpha\", lascvmod.alpha_)"
   ]
  },
  {
   "cell_type": "code",
   "execution_count": 47,
   "metadata": {},
   "outputs": [
    {
     "name": "stdout",
     "output_type": "stream",
     "text": [
      "LassoCV Regression Coefficients [  1.29658624e-04   3.26121752e+00  -0.00000000e+00  -2.19507287e-01\n",
      "   9.12452316e-03   0.00000000e+00  -9.04833708e-06  -1.72881333e-06\n",
      "  -9.21549379e-02   0.00000000e+00]\n"
     ]
    }
   ],
   "source": [
    "print(\"LassoCV Regression Coefficients\", lascvmod.coef_)"
   ]
  },
  {
   "cell_type": "code",
   "execution_count": 48,
   "metadata": {},
   "outputs": [
    {
     "name": "stdout",
     "output_type": "stream",
     "text": [
      "LassoCV Regression Test R-squared 0.781260836356\n"
     ]
    }
   ],
   "source": [
    "print (\"LassoCV Regression Test R-squared\",\n",
    " lascvmod.score (X_test, Y_test))"
   ]
  },
  {
   "cell_type": "code",
   "execution_count": 49,
   "metadata": {},
   "outputs": [
    {
     "name": "stdout",
     "output_type": "stream",
     "text": [
      "LassoCV Regression MSE 4.27254766859\n"
     ]
    }
   ],
   "source": [
    "print (\"LassoCV Regression MSE\",\n",
    " metrics.mean_squared_error (Y_pred, Y_test))"
   ]
  },
  {
   "cell_type": "code",
   "execution_count": null,
   "metadata": {
    "collapsed": true
   },
   "outputs": [],
   "source": []
  }
 ],
 "metadata": {
  "kernelspec": {
   "display_name": "Python 3",
   "language": "python",
   "name": "python3"
  },
  "language_info": {
   "codemirror_mode": {
    "name": "ipython",
    "version": 3
   },
   "file_extension": ".py",
   "mimetype": "text/x-python",
   "name": "python",
   "nbconvert_exporter": "python",
   "pygments_lexer": "ipython3",
   "version": "3.6.1"
  }
 },
 "nbformat": 4,
 "nbformat_minor": 2
}
